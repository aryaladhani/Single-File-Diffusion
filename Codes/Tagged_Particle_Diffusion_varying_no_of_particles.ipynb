{
  "cells": [
    {
      "cell_type": "code",
      "execution_count": 1,
      "metadata": {
        "id": "SvD12KC4y8MU"
      },
      "outputs": [],
      "source": [
        "#Importing all libraries\n",
        "import numpy as np\n",
        "import matplotlib.pyplot as plt\n",
        "import heapq\n",
        "import tqdm as tqdm"
      ]
    },
    {
      "cell_type": "code",
      "execution_count": 2,
      "metadata": {
        "id": "PGaOPYnpzybt"
      },
      "outputs": [],
      "source": [
        "#Initialization of position and velocities\n",
        "def initialize(N, L, temperature):\n",
        "    positions = np.linspace(0.2 * L, 0.8 * L, N)\n",
        "    velocities = np.random.normal(loc=0.0, scale=np.sqrt(temperature), size=N)\n",
        "    # print(positions)\n",
        "    # print(velocities)\n",
        "    return positions, velocities"
      ]
    },
    {
      "cell_type": "code",
      "execution_count": 3,
      "metadata": {
        "id": "5wRt7Pj10Omt"
      },
      "outputs": [],
      "source": [
        "#Nex Collision\n",
        "def next_collision(positions, velocities, N, L):\n",
        "    event_queue = []\n",
        "    for i in range(N):\n",
        "        for j in range(i + 1, N):\n",
        "            if velocities[i] != velocities[j]:\n",
        "                dt = (positions[j] - positions[i]) / (velocities[i] - velocities[j])\n",
        "                if dt > 0:\n",
        "                    heapq.heappush(event_queue, (dt, i, j))\n",
        "        # Wall collisions\n",
        "    if velocities[N-1] > 0:\n",
        "      heapq.heappush(event_queue, (((L - positions[N-1]) / velocities[N-1]) , N-1, 'right_wall'))\n",
        "    if velocities[0] < 0:\n",
        "      heapq.heappush(event_queue, ((positions[0] / abs(velocities[0])) , 0, 'left_wall'))\n",
        "    # print(\"Next set of collisions lined up are: \")\n",
        "    # print(event_queue)\n",
        "    return event_queue"
      ]
    },
    {
      "cell_type": "code",
      "execution_count": 4,
      "metadata": {
        "id": "w6sbdC4m0yYp"
      },
      "outputs": [],
      "source": [
        "# print(next_collision(positions,velocities,50,100.0))"
      ]
    },
    {
      "cell_type": "code",
      "execution_count": 5,
      "metadata": {
        "id": "5xUmopjw1Dae"
      },
      "outputs": [],
      "source": [
        "def update_positions(positions, velocities, dt):\n",
        "\n",
        "    return positions + velocities * dt\n",
        "\n",
        "# Function to perform a single realization\n",
        "def perform_realization(N, L, particle_index, num_steps, time_step, temp):\n",
        "    # print(\"initial positions and velocities:\")\n",
        "    positions, velocities = initialize(N, L, temp)\n",
        "    initial_position = positions[particle_index]\n",
        "    current_time = 0\n",
        "    event_queue = next_collision(positions, velocities, N, L)\n",
        "    msd = np.zeros(num_steps)\n",
        "    for step in range(num_steps):\n",
        "        while current_time < (step+1) * time_step:\n",
        "            # print(f\"Current time is: {current_time}\")\n",
        "            dt, i, j = heapq.heappop(event_queue)\n",
        "            current_time +=dt\n",
        "            # print(f\"Next Collision occurs between {i} & {j}, at {current_time}\")\n",
        "            positions = update_positions(positions,velocities,dt)\n",
        "            if isinstance(j, str):  # Wall collision\n",
        "                # print(\"Wall collision occurs\")\n",
        "                # print(j)\n",
        "                velocities[i] *= -1\n",
        "            else:  # Particle collision\n",
        "                velocities[i], velocities[j] = velocities[j], velocities[i]\n",
        "\n",
        "            event_queue = next_collision(positions,velocities,N,L)\n",
        "\n",
        "        msd[step] = (positions[particle_index] - initial_position)**2\n",
        "\n",
        "    return msd"
      ]
    },
    {
      "cell_type": "markdown",
      "metadata": {
        "id": "Umc6cAmDrcZf"
      },
      "source": [
        "We now conduct simulations and keep changing temperature while keeping the density constant\n",
        "We vary the number of particles in each simulation., and scale up the length of the container accordingly\n"
      ]
    },
    {
      "cell_type": "code",
      "execution_count": null,
      "metadata": {
        "id": "u21IZ1NarEqe"
      },
      "outputs": [],
      "source": [
        "TEMP = 400.0\n",
        "L = [20,200.0,100.0, 50.0] # Box lengths\n",
        "N = [10,100,50, 25]\n",
        "num_realizations = 200\n",
        "num_steps = 150\n",
        "time_step = 0.1\n",
        "particle_indices = [4,49,24,12]\n",
        "from tqdm import tqdm\n",
        "plt.figure(figsize=(12, 6))\n",
        "plt.title(\"Mean Square Displacement Over Time\")\n",
        "plt.xlabel(\"Time (s)\")\n",
        "plt.ylabel(\"Mean Square Displacement (units^2)\")\n",
        "# for j in range(len(temperatures)):\n",
        "#   print(f\"Carrying Out simulations at a constant density at temperatrue {temperatures[j]} Kelvin\")\n",
        "for sim in range(len(L)):\n",
        "    msd_avg = np.zeros(num_steps)\n",
        "    for i in tqdm (range (num_realizations), desc=\"Loading...\"):\n",
        "        # print(f\"currently conducting simulations for {realization} for {sim} particle\")\n",
        "        msd = perform_realization(N[sim], L[sim], particle_indices[sim], num_steps, time_step, TEMP)\n",
        "        # for msds in msd:\n",
        "        #   if msds>=40000.0:\n",
        "        #     print(\"Reached Wall\")\n",
        "        msd_avg += msd\n",
        "    msd_avg /= num_realizations\n",
        "    if (sim ==0):\n",
        "      continue\n",
        "    else:\n",
        "      plt.plot(np.arange(num_steps) * time_step, msd_avg, label=f\"N={N[sim]}, L={L[sim]}, Particle {particle_indices[sim]+1}, temperature: {TEMP}, realizations = {num_realizations}\")\n",
        "plt.legend()\n",
        "plt.show()"
      ]
    }
  ],
  "metadata": {
    "colab": {
      "provenance": []
    },
    "kernelspec": {
      "display_name": "Python 3",
      "name": "python3"
    },
    "language_info": {
      "name": "python"
    }
  },
  "nbformat": 4,
  "nbformat_minor": 0
}